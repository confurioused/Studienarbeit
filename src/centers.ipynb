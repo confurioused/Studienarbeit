{
 "cells": [
  {
   "cell_type": "code",
   "execution_count": null,
   "metadata": {},
   "outputs": [],
   "source": [
    "\n",
    "\"\"\"\n",
    "reads manual and automatic annotation from csv and calculates the center of the LM starttimes \n",
    "\n",
    "\"\"\""
   ]
  },
  {
   "cell_type": "code",
   "execution_count": null,
   "metadata": {},
   "outputs": [],
   "source": [
    "from os import walk\n",
    "import matplotlib.transforms\n",
    "import csv\n",
    "import ast\n",
    "import pyedflib\n",
    "import numpy as np\n",
    "import matplotlib.pyplot as plt\n",
    "import math\n",
    "import scipy\n",
    "from scipy.signal import oaconvolve\n",
    "import time\n",
    "import copy\n",
    "import ast\n"
   ]
  },
  {
   "cell_type": "code",
   "execution_count": null,
   "metadata": {},
   "outputs": [],
   "source": [
    "startfilename = \"acq_000058160.edf.csv\"\n",
    "numberOfFiles = 6216\n",
    "fileoffset = 0\n",
    "\n",
    "AAnnopath = \"C:\\\\Users\\\\aaron\\\\OneDrive\\\\Dokumente\\\\Uni\\\\Studienarbeit\\\\exampleAnnos\\\\\"\n",
    "MAnnopath = \"C:\\\\Users\\\\aaron\\\\OneDrive\\\\Dokumente\\\\Uni\\\\Studienarbeit\\\\manualAnnos\\\\\"\n",
    "\n",
    "includepath = \"C:\\\\Users\\\\aaron\\\\OneDrive\\\\Dokumente\\\\Uni\\\\Studienarbeit\\\\includedFiles.csv\"\n",
    "path = \"Y:\\\\\"\n",
    "saveMetricdir = 'C:\\\\Users\\\\aaron\\\\OneDrive\\\\Dokumente\\\\Uni\\\\Studienarbeit\\\\finalMetrics\\\\'\n",
    "###Detector\n",
    "MAnnofilenames = next(walk(MAnnopath), (None, None, []))[2] \n",
    "#MAnnofilenames = [file[:-4] for file in MAnnofilenames]\n",
    "AAnnofilenames = next(walk(AAnnopath), (None, None, []))[2] \n",
    "#AAnnofilenames = [file[:-4] for file in AAnnofilenames]\n",
    "startAtFileNr = AAnnofilenames.index(startfilename)+ fileoffset\n",
    "stopAtFileNr = startAtFileNr + numberOfFiles\n",
    "#filenames = next(walk(path), (None, None, []))[2]\n",
    "metricfilenames = next(walk(saveMetricdir), (None, None, []))[2] "
   ]
  },
  {
   "cell_type": "code",
   "execution_count": null,
   "metadata": {},
   "outputs": [],
   "source": [
    "#flattens any list to 1D, complicated due to not wanting to corrupt original list\n",
    "def flattenx(nested_list, regular_list):\n",
    "    \n",
    "    for ele in nested_list:\n",
    "        if type(ele) is list:\n",
    "            flattenx(ele, regular_list)\n",
    "        else:\n",
    "            regular_list.append(ele)\n",
    "    return regular_list\n",
    "\n",
    "def flatten(nested_list):\n",
    "    return flattenx(nested_list, regular_list = [])"
   ]
  },
  {
   "cell_type": "code",
   "execution_count": null,
   "metadata": {},
   "outputs": [],
   "source": [
    "#only read the files that have manual annos\n",
    "with open(includepath , \"r\", newline='') as csvfile:\n",
    "\n",
    "    content = csv.reader(csvfile,  delimiter=';', quotechar='\"')\n",
    "    strings = list(content)\n",
    "    data = []\n",
    "    for e in strings:\n",
    "        data.append(e)\n",
    "includefiles = flatten(data)"
   ]
  },
  {
   "cell_type": "code",
   "execution_count": null,
   "metadata": {},
   "outputs": [],
   "source": [
    "mCenters = []\n",
    "aCenters = []\n",
    "totalstarttime = time.time()\n",
    "\n",
    "for filename in [file for file in includefiles[startAtFileNr:stopAtFileNr]]:\n",
    "    filestarttime = time.time()\n",
    "    sampleFreq = 200\n",
    "\n",
    "    #reading csv back to list\n",
    "    with open(AAnnopath + filename + \".csv\" , \"r\") as csvfile:\n",
    "\n",
    "        content = csv.reader(csvfile, delimiter=',', quotechar='\"')\n",
    "        strings = list(content)\n",
    "        if(len(strings) == 0):\n",
    "            continue\n",
    "        aAnno = []\n",
    "        for e in strings[0]:\n",
    "            aAnno.append(eval(e))\n",
    "\n",
    "    with open(MAnnopath + filename + \".csv\" , \"r\") as csvfile:\n",
    "        content = csv.reader(csvfile, delimiter=',', quotechar='\"')\n",
    "        strings = list(content)\n",
    "        if(len(strings) == 0 or strings[0][0] == \" \"):\n",
    "            continue\n",
    "        mAnno = []\n",
    "        for e in strings[0]:\n",
    "            mAnno.append(eval(e))\n",
    "            \n",
    "    #centers\n",
    "    mLMStarts = [LM[0] for LM in mAnno]\n",
    "    mCenter = sum(mLMStarts)/len(mLMStarts) if len(mLMStarts) != 0  else math.nan\n",
    "    mCenters.append(mCenter)\n",
    "    \n",
    "    aLMStarts = [LM[0] for LM in aAnno]\n",
    "    aCenter = sum(aLMStarts)/len(aLMStarts) if len(aLMStarts) != 0  else math.nan\n",
    "    aCenters.append(aCenter)\n"
   ]
  },
  {
   "cell_type": "code",
   "execution_count": null,
   "metadata": {},
   "outputs": [],
   "source": [
    "centerdiffs = [aCenter - mCenter for (mCenter,aCenter) in zip(mCenters,aCenters) if mCenter != math.nan and  aCenter != math.nan]\n",
    "signal = [x for x in centerdiffs if x != math.inf]\n",
    "bins = \"auto\"\n",
    "print(np.nanmean(signal)/200)\n",
    "y,x,_ = plt.hist(signal, bins = bins)\n",
    "\n",
    "plt.title(\"Differenz der Schwerpunkte aus \\n automatischer Annotation und manueller Annotation\")\n",
    "plt.xlabel(\"Abweichung in Samples\")\n",
    "\n",
    "plt.ylabel(\"Anzahl der Annotationen\")\n",
    "print(x[np.argmax(y)]/200)\n",
    "print(np.nanmedian(signal)/200)\n",
    "plt.savefig(\"centers\"+\".jpg\", dpi = 400.0)\n",
    "\n",
    "savepath = \"C:\\\\Users\\\\aaron\\\\OneDrive\\\\Dokumente\\\\Uni\\\\Studienarbeit\\\\centerDiffs.csv\"\n",
    "with open(savepath,'w') as file:\n",
    "    for l in centerdiffs:\n",
    "        file.write(str(l))\n",
    "        file.write('\\n')"
   ]
  },
  {
   "cell_type": "code",
   "execution_count": null,
   "metadata": {},
   "outputs": [],
   "source": []
  },
  {
   "cell_type": "code",
   "execution_count": null,
   "metadata": {},
   "outputs": [],
   "source": []
  }
 ],
 "metadata": {
  "kernelspec": {
   "display_name": "Python 3",
   "language": "python",
   "name": "python3"
  },
  "language_info": {
   "codemirror_mode": {
    "name": "ipython",
    "version": 3
   },
   "file_extension": ".py",
   "mimetype": "text/x-python",
   "name": "python",
   "nbconvert_exporter": "python",
   "pygments_lexer": "ipython3",
   "version": "3.8.5"
  }
 },
 "nbformat": 4,
 "nbformat_minor": 4
}
