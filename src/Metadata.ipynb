{
 "cells": [
  {
   "cell_type": "code",
   "execution_count": null,
   "metadata": {},
   "outputs": [],
   "source": [
    "import ast\n",
    "import csv\n",
    "import math\n",
    "from os import walk\n",
    "import matplotlib.transforms\n",
    "import csv\n",
    "import ast\n",
    "import pyedflib\n",
    "import numpy as np\n",
    "import matplotlib.pyplot as plt\n",
    "import math\n",
    "import scipy\n",
    "from scipy.signal import oaconvolve\n",
    "import time"
   ]
  },
  {
   "cell_type": "code",
   "execution_count": null,
   "metadata": {},
   "outputs": [],
   "source": [
    "AAnnopath = \"C:\\\\Users\\\\aaron\\\\OneDrive\\\\Dokumente\\\\Uni\\\\Studienarbeit\\\\exampleAnnos\\\\\"\n",
    "MAnnopath = \"C:\\\\Users\\\\aaron\\\\OneDrive\\\\Dokumente\\\\Uni\\\\Studienarbeit\\\\manualAnnos\\\\\"\n",
    "path = \"C:\\\\Users\\\\aaron\\\\OneDrive\\\\Dokumente\\\\Uni\\\\Studienarbeit\\\\Programm\\\\MetadataLM.csv\"\n",
    "databasepath =   \"\\\\\\\\vs-grp06.zih.tu-dresden.de\\\\gl4psgdata\\\\tsm-retro-lm\\\\\"\n",
    "\n",
    "\n",
    "startfilename = \"acq_000058160.edf.csv\"\n",
    "numberOfFiles = 6216\n",
    "fileoffset = 0\n",
    "\n",
    "MAnnofilenames = next(walk(MAnnopath), (None, None, []))[2] \n",
    "AAnnofilenames = next(walk(AAnnopath), (None, None, []))[2] \n",
    "startAtFileNr = AAnnofilenames.index(startfilename)+ fileoffset\n",
    "stopAtFileNr = startAtFileNr + numberOfFiles\n",
    "datafilenames = next(walk(databasepath), (None, None, []))[2]"
   ]
  },
  {
   "cell_type": "code",
   "execution_count": null,
   "metadata": {},
   "outputs": [],
   "source": [
    "def flattenx(nested_list, regular_list):\n",
    "    \n",
    "    for ele in nested_list:\n",
    "        if type(ele) is list:\n",
    "            flattenx(ele, regular_list)\n",
    "        else:\n",
    "            regular_list.append(ele)\n",
    "    return regular_list\n",
    "\n",
    "def flatten(nested_list):\n",
    "    return flattenx(nested_list, regular_list = [])"
   ]
  },
  {
   "cell_type": "code",
   "execution_count": null,
   "metadata": {},
   "outputs": [],
   "source": [
    "#list of signals with manual annotations\n",
    "nomAnnos = [] \n",
    "for filename in [MAnnofilename[0:-4] for MAnnofilename in MAnnofilenames[startAtFileNr:stopAtFileNr] if MAnnofilename[0:-4] in datafilenames]:\n",
    "    filestarttime = time.time()\n",
    "    \n",
    "    with open(MAnnopath + filename + \".csv\", \"r\") as csvfile:\n",
    "        \n",
    "        content = csv.reader(csvfile, delimiter=',', quotechar='\"')\n",
    "        strings = list(content)\n",
    "        strings = flatten(strings)\n",
    "        if(len(strings) == 0 ):\n",
    "\n",
    "            nomAnnos.append(filename + \".csv\")\n",
    "            continue\n",
    "\n",
    "#metadata        \n",
    "with open(path , \"r\", newline='') as csvfile:\n",
    "\n",
    "    content = csv.reader(csvfile,  delimiter=';', quotechar='\"')\n",
    "    strings = list(content)\n",
    "    data = []\n",
    "        \n",
    "    for e in strings:\n",
    "        data.append(e)"
   ]
  },
  {
   "cell_type": "code",
   "execution_count": null,
   "metadata": {},
   "outputs": [],
   "source": [
    "malecount = 0\n",
    "femalecount = 0\n",
    "diverscount = 0\n",
    "ages = []\n",
    "\n",
    "for metafile in data:\n",
    "    if(metafile[0] + \".edf\" in datafilenames and metafile[0] + \".edf\" not in [filename for filename in datafilenames if filename + \".csv\" in nomAnnos or filename + \".csv\" not in AAnnofilenames]):\n",
    "        if(metafile[2] == \"male\"):\n",
    "            malecount += 1\n",
    "        elif(metafile[2] == \"female\"):\n",
    "            femalecount += 1\n",
    "        else:\n",
    "            diverscount += 1\n",
    "        ages.append(int(metafile[1][:2]))\n",
    "        \n",
    "#one bin for every age category\n",
    "plt.hist(ages, bins = len(set(ages)))\n",
    "\n",
    "plt.xlabel(\"Alter der Patienten\")\n",
    "plt.ylabel(\"Anzahl\")\n",
    "plt.savefig(\"MetadataAltershistogramm\"+\".jpg\", dpi = 400.0)\n",
    "print(femalecount)\n",
    "print(malecount)\n",
    "print(diverscount)"
   ]
  },
  {
   "cell_type": "code",
   "execution_count": null,
   "metadata": {},
   "outputs": [],
   "source": []
  }
 ],
 "metadata": {
  "kernelspec": {
   "display_name": "Python 3",
   "language": "python",
   "name": "python3"
  },
  "language_info": {
   "codemirror_mode": {
    "name": "ipython",
    "version": 3
   },
   "file_extension": ".py",
   "mimetype": "text/x-python",
   "name": "python",
   "nbconvert_exporter": "python",
   "pygments_lexer": "ipython3",
   "version": "3.8.5"
  }
 },
 "nbformat": 4,
 "nbformat_minor": 4
}
